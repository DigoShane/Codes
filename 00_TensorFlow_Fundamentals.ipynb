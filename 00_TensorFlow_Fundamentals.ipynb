{
  "nbformat": 4,
  "nbformat_minor": 0,
  "metadata": {
    "colab": {
      "provenance": [],
      "include_colab_link": true
    },
    "kernelspec": {
      "name": "python3",
      "display_name": "Python 3"
    },
    "language_info": {
      "name": "python"
    }
  },
  "cells": [
    {
      "cell_type": "markdown",
      "metadata": {
        "id": "view-in-github",
        "colab_type": "text"
      },
      "source": [
        "<a href=\"https://colab.research.google.com/github/DigoShane/Codes/blob/main/00_TensorFlow_Fundamentals.ipynb\" target=\"_parent\"><img src=\"https://colab.research.google.com/assets/colab-badge.svg\" alt=\"Open In Colab\"/></a>"
      ]
    },
    {
      "cell_type": "markdown",
      "source": [
        "#In  this notebook, we are goign tot cover some of the most fundamental concepts of tensors using tensor flow.\n",
        "\n",
        "More specifically, we're goignt o cover\n",
        "*Intro to tensors\n",
        "\n",
        "*Getting information from tensors\n",
        "\n",
        "*Manipulating tensors\n",
        "\n",
        "*Tensors and Numpy\n",
        "\n",
        "*Using @tf.function (a way to speed up regular python functions)\n",
        "\n",
        "*Using GPU's with TensorFlow (or TPUs)\n",
        "\n",
        "*Exercises to try yourself."
      ],
      "metadata": {
        "id": "aK8F-dy23YH1"
      }
    },
    {
      "cell_type": "markdown",
      "source": [
        "Introduction to tensors"
      ],
      "metadata": {
        "id": "x872NwOn8zmZ"
      }
    },
    {
      "cell_type": "code",
      "source": [
        "#import Tensor Flow\n",
        "import tensorflow as tf\n",
        "print(tf.__version__)"
      ],
      "metadata": {
        "colab": {
          "base_uri": "https://localhost:8080/"
        },
        "id": "LbkMnUeL-JZr",
        "outputId": "59359627-7cd4-443e-cc78-688a9f09b325"
      },
      "execution_count": 2,
      "outputs": [
        {
          "output_type": "stream",
          "name": "stdout",
          "text": [
            "2.19.0\n"
          ]
        }
      ]
    },
    {
      "cell_type": "code",
      "source": [
        "#creating tenosrs with tf.constant()\n",
        "scalar = tf.constant(7)\n",
        "scalar"
      ],
      "metadata": {
        "colab": {
          "base_uri": "https://localhost:8080/"
        },
        "id": "22tURPsy-SN_",
        "outputId": "969c21dd-2ff1-4124-911a-5be351932b2e"
      },
      "execution_count": 6,
      "outputs": [
        {
          "output_type": "execute_result",
          "data": {
            "text/plain": [
              "<tf.Tensor: shape=(), dtype=int32, numpy=7>"
            ]
          },
          "metadata": {},
          "execution_count": 6
        }
      ]
    },
    {
      "cell_type": "code",
      "source": [
        "#Check no. of dimensions of a tensor.\n",
        "scalar.ndim"
      ],
      "metadata": {
        "colab": {
          "base_uri": "https://localhost:8080/"
        },
        "id": "jvqa1L8r-d95",
        "outputId": "a99299f1-62a9-4248-db2f-078df73788ff"
      },
      "execution_count": 8,
      "outputs": [
        {
          "output_type": "execute_result",
          "data": {
            "text/plain": [
              "0"
            ]
          },
          "metadata": {},
          "execution_count": 8
        }
      ]
    },
    {
      "cell_type": "code",
      "source": [
        "#create a vector\n",
        "vector = tf.constant([1,3]);\n",
        "vector"
      ],
      "metadata": {
        "id": "LIEtqOWROGsJ",
        "outputId": "d3cc1760-9121-4d2b-9eab-7c21a971c03c",
        "colab": {
          "base_uri": "https://localhost:8080/"
        }
      },
      "execution_count": 13,
      "outputs": [
        {
          "output_type": "execute_result",
          "data": {
            "text/plain": [
              "<tf.Tensor: shape=(2,), dtype=int32, numpy=array([1, 3], dtype=int32)>"
            ]
          },
          "metadata": {},
          "execution_count": 13
        }
      ]
    },
    {
      "cell_type": "code",
      "source": [
        "vector.ndim"
      ],
      "metadata": {
        "id": "WNRVsQ_aOP6p",
        "outputId": "5a10c360-bd8c-4e51-e83e-a58abcaa6da7",
        "colab": {
          "base_uri": "https://localhost:8080/"
        }
      },
      "execution_count": 14,
      "outputs": [
        {
          "output_type": "execute_result",
          "data": {
            "text/plain": [
              "1"
            ]
          },
          "metadata": {},
          "execution_count": 14
        }
      ]
    },
    {
      "cell_type": "code",
      "source": [
        "#2nd order tensor\n",
        "SOT = tf.constant([[1,3],[2,1]])\n",
        "SOT"
      ],
      "metadata": {
        "id": "mmRxaQt0OvTs",
        "outputId": "7a2ac9a0-71e3-4f85-da0c-07f4b34a8124",
        "colab": {
          "base_uri": "https://localhost:8080/"
        }
      },
      "execution_count": 15,
      "outputs": [
        {
          "output_type": "execute_result",
          "data": {
            "text/plain": [
              "<tf.Tensor: shape=(2, 2), dtype=int32, numpy=\n",
              "array([[1, 3],\n",
              "       [2, 1]], dtype=int32)>"
            ]
          },
          "metadata": {},
          "execution_count": 15
        }
      ]
    },
    {
      "cell_type": "code",
      "source": [
        "SOT.ndim"
      ],
      "metadata": {
        "id": "ytCkEHeCPC9s",
        "outputId": "7171841a-0842-40c1-8c96-b6712ce1e0e7",
        "colab": {
          "base_uri": "https://localhost:8080/"
        }
      },
      "execution_count": 16,
      "outputs": [
        {
          "output_type": "execute_result",
          "data": {
            "text/plain": [
              "2"
            ]
          },
          "metadata": {},
          "execution_count": 16
        }
      ]
    },
    {
      "cell_type": "code",
      "source": [
        "#we want to specify data type\n",
        "ano_matrix = tf.constant([[0.4,1.1],[2.1,4.3],[1.2,0.8]], dtype = tf.float16)\n",
        "ano_matrix"
      ],
      "metadata": {
        "id": "X82LdBk3PEmp",
        "outputId": "f1831b9d-0971-4d5e-9629-bbc742970a57",
        "colab": {
          "base_uri": "https://localhost:8080/"
        }
      },
      "execution_count": 20,
      "outputs": [
        {
          "output_type": "execute_result",
          "data": {
            "text/plain": [
              "<tf.Tensor: shape=(3, 2), dtype=float16, numpy=\n",
              "array([[0.4, 1.1],\n",
              "       [2.1, 4.3],\n",
              "       [1.2, 0.8]], dtype=float16)>"
            ]
          },
          "metadata": {},
          "execution_count": 20
        }
      ]
    },
    {
      "cell_type": "code",
      "source": [
        "ano_matrix.ndim"
      ],
      "metadata": {
        "id": "3taX0K7l3NpY",
        "outputId": "540d0032-6214-4c42-cc25-063d4f1b5c8a",
        "colab": {
          "base_uri": "https://localhost:8080/"
        }
      },
      "execution_count": 21,
      "outputs": [
        {
          "output_type": "execute_result",
          "data": {
            "text/plain": [
              "2"
            ]
          },
          "metadata": {},
          "execution_count": 21
        }
      ]
    },
    {
      "cell_type": "code",
      "source": [],
      "metadata": {
        "id": "pChEeqPY3X5Z"
      },
      "execution_count": null,
      "outputs": []
    }
  ]
}