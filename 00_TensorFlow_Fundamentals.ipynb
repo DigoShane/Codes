{
  "nbformat": 4,
  "nbformat_minor": 0,
  "metadata": {
    "colab": {
      "provenance": [],
      "include_colab_link": true
    },
    "kernelspec": {
      "name": "python3",
      "display_name": "Python 3"
    },
    "language_info": {
      "name": "python"
    }
  },
  "cells": [
    {
      "cell_type": "markdown",
      "metadata": {
        "id": "view-in-github",
        "colab_type": "text"
      },
      "source": [
        "<a href=\"https://colab.research.google.com/github/DigoShane/Codes/blob/main/00_TensorFlow_Fundamentals.ipynb\" target=\"_parent\"><img src=\"https://colab.research.google.com/assets/colab-badge.svg\" alt=\"Open In Colab\"/></a>"
      ]
    },
    {
      "cell_type": "markdown",
      "source": [
        "#In  this notebook, we are goign tot cover some of the most fundamental concepts of tensors using tensor flow.\n",
        "\n",
        "More specifically, we're goignt o cover\n",
        "*Intro to tensors\n",
        "\n",
        "*Getting information from tensors\n",
        "\n",
        "*Manipulating tensors\n",
        "\n",
        "*Tensors and Numpy\n",
        "\n",
        "*Using @tf.function (a way to speed up regular python functions)\n",
        "\n",
        "*Using GPU's with TensorFlow (or TPUs)\n",
        "\n",
        "*Exercises to try yourself."
      ],
      "metadata": {
        "id": "aK8F-dy23YH1"
      }
    },
    {
      "cell_type": "markdown",
      "source": [
        "Introduction to tensors"
      ],
      "metadata": {
        "id": "x872NwOn8zmZ"
      }
    },
    {
      "cell_type": "code",
      "source": [
        "#import Tensor Flow\n",
        "import tensorflow as tf\n",
        "print(tf.__version__)"
      ],
      "metadata": {
        "colab": {
          "base_uri": "https://localhost:8080/"
        },
        "id": "LbkMnUeL-JZr",
        "outputId": "59359627-7cd4-443e-cc78-688a9f09b325"
      },
      "execution_count": 2,
      "outputs": [
        {
          "output_type": "stream",
          "name": "stdout",
          "text": [
            "2.19.0\n"
          ]
        }
      ]
    },
    {
      "cell_type": "code",
      "source": [
        "#creating tenosrs with tf.constant()\n",
        "scalar = tf.constant(7)\n",
        "scalar"
      ],
      "metadata": {
        "colab": {
          "base_uri": "https://localhost:8080/"
        },
        "id": "22tURPsy-SN_",
        "outputId": "969c21dd-2ff1-4124-911a-5be351932b2e"
      },
      "execution_count": 6,
      "outputs": [
        {
          "output_type": "execute_result",
          "data": {
            "text/plain": [
              "<tf.Tensor: shape=(), dtype=int32, numpy=7>"
            ]
          },
          "metadata": {},
          "execution_count": 6
        }
      ]
    },
    {
      "cell_type": "code",
      "source": [
        "#Check no. of dimensions of a tensor.\n",
        ""
      ],
      "metadata": {
        "id": "jvqa1L8r-d95"
      },
      "execution_count": 6,
      "outputs": []
    }
  ]
}